{
 "cells": [
  {
   "cell_type": "code",
   "execution_count": 9,
   "id": "11c9a193-7828-44ec-a2fd-49dc5c18c595",
   "metadata": {},
   "outputs": [
    {
     "data": {
      "image/png": "[encoded data removed]",
      "text/plain": [
       "<Figure size 432x288 with 1 Axes>"
      ]
     },
     "metadata": {
      "needs_background": "light"
     },
     "output_type": "display_data"
    }
   ],
   "source": [
    "\n",
    "import requests\n",
    "import matplotlib.pyplot as plt\n",
    "\n",
    "api_key = '750f9b053da1863e84061a1b89248e00'\n",
    "\n",
    "company = 'AAPL'\n",
    "years = 10\n",
    "\n",
    "income_statement = requests.get(f\"https://financialmodelingprep.com/api/v3/income-statement/{company}?limit={years}&apikey={api_key}\")\n",
    "income_statement = income_statement.json()\n",
    "\n",
    "\n",
    "revenues = list(reversed([income_statement[i]['revenue'] for i in range(len(income_statement))]))\n",
    "profits = list(reversed([income_statement[i]['grossProfit'] for i in range(len(income_statement))]))\n",
    "\n",
    "plt.plot(revenues, label = 'Revenue')\n",
    "plt.plot(profits, label = 'Revenue')\n",
    "plt.legend(loc = 'upper left')\n",
    "plt.show()"
   ]
  },
  {
   "cell_type": "code",
   "execution_count": 10,
   "id": "870d1dbd-72e8-43c0-bb00-bfe0070169e4",
   "metadata": {},
   "outputs": [
    {
     "name": "stdout",
     "output_type": "stream",
     "text": [
      "The DCF value is: 392542779741.2795\n"
     ]
    }
   ],
   "source": [
    "import requests\n",
    "import matplotlib.pyplot as plt\n",
    "\n",
    "api_key = '750f9b053da1863e84061a1b89248e00'\n",
    "\n",
    "company = 'AAPL'\n",
    "years = 5\n",
    "\n",
    "income_statements = requests.get(f\"https://financialmodelingprep.com/api/v3/income-statement/{company}?limit={years}&apikey={api_key}\")\n",
    "income_statements = income_statements.json()\n",
    "\n",
    "balance_sheets = requests.get(f\"https://financialmodelingprep.com/api/v3/balance-sheet-statement/{company}?limit={years}&apikey={api_key}\")\n",
    "balance_sheets = balance_sheets.json()\n",
    "\n",
    "cash_flows = requests.get(f\"https://financialmodelingprep.com/api/v3/cash-flow-statement/{company}?limit={years}&apikey={api_key}\")\n",
    "cash_flows = cash_flows.json()\n",
    "\n",
    "discount_rate = 0.1\n",
    "growth_rate = 0.05\n",
    "\n",
    "fcf_list = []\n",
    "for i in range(years):\n",
    "    income_statement = income_statements[i]\n",
    "    balance_sheet = balance_sheets[i]\n",
    "    cash_flow = cash_flows[i]\n",
    "\n",
    "    ebit = income_statement['ebitda'] - income_statement['depreciationAndAmortization']\n",
    "    tax_rate = income_statement['incomeTaxExpense'] / income_statement['incomeBeforeTax']\n",
    "    change_in_nwc = (balance_sheet['totalCurrentAssets'] - balance_sheet['totalCurrentLiabilities']) - \\\n",
    "                    (balance_sheets[i+1]['totalCurrentAssets'] - balance_sheets[i+1]['totalCurrentLiabilities'] if i < years-1 else 0)\n",
    "    capex = cash_flow['capitalExpenditure']\n",
    "    \n",
    "    fcf = ebit*(1-tax_rate) + income_statement['depreciationAndAmortization'] - change_in_nwc - capex\n",
    "    fcf_list.append(fcf)\n",
    "\n",
    "dcf = sum([fcf / ((1 + discount_rate) ** (i+1)) for i, fcf in enumerate(fcf_list)])\n",
    "\n",
    "print(\"The DCF value is:\", dcf)\n"
   ]
  },
  {
   "cell_type": "code",
   "execution_count": 25,
   "id": "b8f383fd-b85d-450b-8c4b-7deb756d9f77",
   "metadata": {},
   "outputs": [
    {
     "name": "stdout",
     "output_type": "stream",
     "text": [
      "The DCF value per share is: 66.81350560818191\n"
     ]
    }
   ],
   "source": [
    "import requests\n",
    "import matplotlib.pyplot as plt\n",
    "\n",
    "api_key = '750f9b053da1863e84061a1b89248e00'\n",
    "\n",
    "company = 'MU'\n",
    "years = 5\n",
    "\n",
    "income_statements = requests.get(f\"https://financialmodelingprep.com/api/v3/income-statement/{company}?limit={years}&apikey={api_key}\")\n",
    "income_statements = income_statements.json()\n",
    "\n",
    "balance_sheets = requests.get(f\"https://financialmodelingprep.com/api/v3/balance-sheet-statement/{company}?limit={years}&apikey={api_key}\")\n",
    "balance_sheets = balance_sheets.json()\n",
    "\n",
    "cash_flows = requests.get(f\"https://financialmodelingprep.com/api/v3/cash-flow-statement/{company}?limit={years}&apikey={api_key}\")\n",
    "cash_flows = cash_flows.json()\n",
    "\n",
    "company_profile = requests.get(f\"https://financialmodelingprep.com/api/v3/profile/{company}?apikey={api_key}\")\n",
    "company_profile = company_profile.json()\n",
    "\n",
    "discount_rate = 0.3\n",
    "growth_rate = 0.05\n",
    "\n",
    "fcf_list = []\n",
    "for i in range(years):\n",
    "    income_statement = income_statements[i]\n",
    "    balance_sheet = balance_sheets[i]\n",
    "    cash_flow = cash_flows[i]\n",
    "\n",
    "    net_income = income_statement['netIncome']\n",
    "    interest_expense = income_statement['interestExpense'] if 'interestExpense' in income_statement else 0\n",
    "    tax_rate = income_statement['incomeTaxExpense'] / income_statement['incomeBeforeTax'] if income_statement['incomeBeforeTax'] != 0 else 0\n",
    "    depreciation_amortization = income_statement['depreciationAndAmortization']\n",
    "    change_in_nwc = (balance_sheet['totalCurrentAssets'] - balance_sheet['totalCurrentLiabilities']) - \\\n",
    "                    (balance_sheets[i+1]['totalCurrentAssets'] - balance_sheets[i+1]['totalCurrentLiabilities'] if i < years-1 else 0)\n",
    "    capex = cash_flow['capitalExpenditure']\n",
    "\n",
    "    fcf = net_income + (1 - tax_rate) * interest_expense + depreciation_amortization - change_in_nwc - capex\n",
    "    fcf_list.append(fcf)\n",
    "\n",
    "terminal_value = fcf_list[-1] * (1 + growth_rate) / (discount_rate - growth_rate)\n",
    "dcf = sum([fcf / ((1 + discount_rate) ** (i + 1)) for i, fcf in enumerate(fcf_list)]) + terminal_value / ((1 + discount_rate) ** years)\n",
    "\n",
    "shares_outstanding = company_profile[0]['mktCap'] / company_profile[0]['price'] # market cap divided by share price\n",
    "dcf_per_share = dcf / shares_outstanding\n",
    "\n",
    "print(\"The DCF value per share is:\", dcf_per_share)\n"
   ]
  },
  {
   "cell_type": "code",
   "execution_count": 12,
   "id": "ddc5bc85-345e-407e-b23e-c6deb89c7800",
   "metadata": {},
   "outputs": [
    {
     "data": {
      "text/plain": [
       "24.864695672271232"
      ]
     },
     "execution_count": 12,
     "metadata": {},
     "output_type": "execute_result"
    }
   ],
   "source": [
    "x = 392542779741.2795/15787154000\n",
    "x"
   ]
  },
  {
   "cell_type": "code",
   "execution_count": 13,
   "id": "f2c4511c-fbf1-4d90-8877-d047c4a405c8",
   "metadata": {},
   "outputs": [
    {
     "name": "stdout",
     "output_type": "stream",
     "text": [
      "15728700415.998129\n"
     ]
    }
   ],
   "source": [
    "print(shares_outstanding)"
   ]
  },
  {
   "cell_type": "code",
   "execution_count": null,
   "id": "e383acaf-1ad7-4b2a-9b96-c56a7a24e688",
   "metadata": {},
   "outputs": [],
   "source": []
  }
 ],
 "metadata": {
  "kernelspec": {
   "display_name": "Python 3",
   "language": "python",
   "name": "python3"
  },
  "language_info": {
   "codemirror_mode": {
    "name": "ipython",
    "version": 3
   },
   "file_extension": ".py",
   "mimetype": "text/x-python",
   "name": "python",
   "nbconvert_exporter": "python",
   "pygments_lexer": "ipython3",
   "version": "3.8.8"
  }
 },
 "nbformat": 4,
 "nbformat_minor": 5
}
